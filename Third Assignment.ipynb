{
 "cells": [
  {
   "cell_type": "markdown",
   "metadata": {},
   "source": [
    "15 STRING METHODS AND THEIR APPLICATIONS."
   ]
  },
  {
   "cell_type": "markdown",
   "metadata": {},
   "source": [
    "1.str.Capitalize(): This method converts the first character of a string to an upper case(capital letter).The capitalize() method returns a copy of the original string and converts the first character of the string to an uppercase (capital letter) while making all other characters in the string lowercase letters.\n",
    "\n",
    "Use case: This string method is used when \n",
    "1.The first alphabet of every word in a string contains multiple words is uppercase.\n",
    "2.In a string were any character is randomly an uppercase. \n",
    "3.:All the characters in a string are uppercase."
   ]
  },
  {
   "cell_type": "code",
   "execution_count": 3,
   "metadata": {},
   "outputs": [
    {
     "name": "stdout",
     "output_type": "stream",
     "text": [
      "My name is Juiliet\n"
     ]
    }
   ],
   "source": [
    "name = \"juiliet\"\n",
    "new_name = name.capitalize()\n",
    "print('My name is',new_name)\n"
   ]
  },
  {
   "cell_type": "markdown",
   "metadata": {},
   "source": [
    "2.str.endswith():This String method endswith() is a utility to check if a string ends with a given suffix or not. It returns True if the string ends with the specified value, otherwise False.\n",
    "The return type is Boolean i.e. True or False\n",
    "There are 3 parameters attached to this method which include: Suffix, Start, End\n",
    "suffix: The value here is required and is used to check if the string ends with a given suffix.\n",
    "Start:This parameter can be Optional. It is an Integer specifying at which position to start the search.\n",
    "End:The end parameter is equally Optional and it is an Integer specifying at which position to end a search.\n",
    "\n",
    "Use case:The endswith() function can be used with the len() function to provide an offset  \n"
   ]
  },
  {
   "cell_type": "code",
   "execution_count": 2,
   "metadata": {},
   "outputs": [
    {
     "name": "stdout",
     "output_type": "stream",
     "text": [
      "False\n"
     ]
    }
   ],
   "source": [
    "des = \"Jane is the last child of her parents.\"\n",
    "\n",
    "x = des.endswith(\"last child.\", 4, 13)\n",
    "\n",
    "print(x)"
   ]
  },
  {
   "cell_type": "markdown",
   "metadata": {},
   "source": [
    "3.str.Upper():The upper() method returns a string where all characters are in upper case. It converts complete String into Uppercase and returns a new string. Strings are immutable,so the original string value remains unchanged.\n",
    "\n",
    "Use case:This method is applied when;\n",
    "1.Only the first alphabet of every word in a string is Uppercase. \n",
    "2.String is in lowercase and may contain number/special characters/whitespaces.\n",
    "3.A string is empty.\n",
    "4.Strings contain only numbers and special characters."
   ]
  },
  {
   "cell_type": "code",
   "execution_count": 4,
   "metadata": {},
   "outputs": [
    {
     "name": "stdout",
     "output_type": "stream",
     "text": [
      "CHINNYJULES@10T\n"
     ]
    }
   ],
   "source": [
    "\n",
    "pswd = \"chinnyjules@10t\"\n",
    "print(pswd.upper())   \n",
    " "
   ]
  },
  {
   "cell_type": "markdown",
   "metadata": {},
   "source": [
    "4.str.lower():The lower() function of python string checks if all the characters in a string are lowercase then returns True else False.It Converts a string into lower case.The lower() method returns a string where all characters are lower case.\n",
    "\n",
    "Use case:This method is applicable when;\n",
    "1.Only the first character of every word is uppercase and contains whitespaces/numbers/special characters.\n",
    "3.Every character in a string is lowercase also contains whitespaces/numbers/special characters.\n",
    "4.String contains only numbers or special characters.\n",
    "5.Every character in a string is uppercase, also contains whitespaces/numbers/special characters. "
   ]
  },
  {
   "cell_type": "code",
   "execution_count": 5,
   "metadata": {},
   "outputs": [
    {
     "name": "stdout",
     "output_type": "stream",
     "text": [
      "False\n",
      "False\n",
      "True\n"
     ]
    }
   ],
   "source": [
    "PY = \"PYTHON IS A PROGRAMMING LANGUAGE\"\n",
    "print(PY.islower())   \n",
    "  \n",
    "year = \"The year 2021\"\n",
    "print(year.islower())  \n",
    " \n",
    "age = \"johnson @ 80\"\n",
    "print(age.islower())   "
   ]
  },
  {
   "cell_type": "markdown",
   "metadata": {},
   "source": [
    "5.str.isdigit():The Python String method, isdigit() checks for the Digit characters in a string and returns a boolean value.The isdigit() method returns True if the string consists of only digit characters, otherwise it returns a False.\n",
    "\n",
    "Use case:Its is applied when;\n",
    "1.A String contains white spaces.\n",
    "2.A String contains decimals.\n",
    "3.A string is empty.\n",
    "4.A string contains alphabets.\n",
    "5.A string contains special characters."
   ]
  },
  {
   "cell_type": "code",
   "execution_count": 9,
   "metadata": {},
   "outputs": [
    {
     "name": "stdout",
     "output_type": "stream",
     "text": [
      "False\n",
      "True\n"
     ]
    }
   ],
   "source": [
    "alp_num = \"POLITICS IN THE 1960s\"\n",
    "print(alp_num.isdigit())   \n",
    " \n",
    "emty = \"456891034\"\n",
    "print(emty.isdigit())  "
   ]
  },
  {
   "cell_type": "markdown",
   "metadata": {},
   "source": [
    "6.str.isalpha():String in Python has built-in functions for almost every action to be performed on a string. Python String function isalpha() checks for the alphabets in a string and returns True if the string consists of only alphabets (a-z, A-Z).\n",
    "\n",
    "Use case:It can be used when;\n",
    "1.A String contains whitespaces.\n",
    "2.A String contains numbers.\n",
    "3.A String contains special characters.\n",
    "4.A String is empty.\n"
   ]
  },
  {
   "cell_type": "code",
   "execution_count": 15,
   "metadata": {},
   "outputs": [
    {
     "name": "stdout",
     "output_type": "stream",
     "text": [
      "False\n",
      "False\n",
      "True\n"
     ]
    }
   ],
   "source": [
    "text = \"Norajules@12\"\n",
    "print(text.isalpha())\n",
    "\n",
    "str_name=\"I am a student\"\n",
    "print(str_name.isalpha())\n",
    "\n",
    "name=\"Juliet\"\n",
    "print(name.isalpha())"
   ]
  },
  {
   "cell_type": "markdown",
   "metadata": {},
   "source": [
    "7.str.isalnum(): Python String isalnum() function checks for the alphanumeric characters in a string and returns a boolean value.It returns True only if the string consists of alphanumeric characters i.e. either alphabet (a-z, A-Z) or numbers (0-9) or combination of both.\n",
    "\n",
    "Use case:This string method is used in the following cases;\n",
    "1.String contains Numbers and Alphabets with different cases.\n",
    "2.String contains special characters.\n",
    "3.String is empty or contains whitespaces\n",
    "4.String contains only alphabets.\n",
    "5.String contains only numbers spaces in between."
   ]
  },
  {
   "cell_type": "code",
   "execution_count": 17,
   "metadata": {},
   "outputs": [
    {
     "name": "stdout",
     "output_type": "stream",
     "text": [
      "True\n"
     ]
    }
   ],
   "source": [
    "alp_num2= \"Survey123\"\n",
    "print(alp_num2.isalnum()) "
   ]
  },
  {
   "cell_type": "markdown",
   "metadata": {},
   "source": [
    "8.str.startswith(prefix, start, end ):The startswith() method is used to check if a string starts with a specified value or a particular substring.The method returns boolean value. If the string starts with a specified substring, the startswith() method returns True; otherwise, the function returns False.\n",
    "\n",
    "prefix : prefix is simply a string which needs to be checked.\n",
    "start : Starting position where prefix is needed to be checked within the specified string.\n",
    "end : Ending position where prefix is needed to be checked within the string.\n",
    "\n",
    "Use case:This string method is used to check the beginning of a string. "
   ]
  },
  {
   "cell_type": "code",
   "execution_count": 23,
   "metadata": {},
   "outputs": [
    {
     "name": "stdout",
     "output_type": "stream",
     "text": [
      "False\n"
     ]
    }
   ],
   "source": [
    "txt_str = \"Africa is a large continent.\"\n",
    " \n",
    "A = txt_str.startswith('large',0,)\n",
    " \n",
    "print(A)\n",
    " \n"
   ]
  },
  {
   "cell_type": "markdown",
   "metadata": {},
   "source": [
    "9.str.find(find,value,end):The Python string find() method is used to check if a string is a substring of another string.\n",
    "find() is invoked on a string object str and returns an Integer. This checks if the substring sub lies between start and end, which are optional parameters.The find() method finds the first occurrence of the specified value.\n",
    "The find() method returns -1 if the value is not found. It is almost the same as the index() method, the only difference is that the index() method raises an exception if the value is not found.\n",
    "\n",
    "Use cases:The method is applied in the following cases below;\n",
    "1.Using Python String find() Without Start/End Arguments.\n",
    "2.Using find() With Only start Argument.\n"
   ]
  },
  {
   "cell_type": "code",
   "execution_count": 24,
   "metadata": {},
   "outputs": [
    {
     "name": "stdout",
     "output_type": "stream",
     "text": [
      "18\n"
     ]
    }
   ],
   "source": [
    "sub = \"Mathematics is my best subject\"\n",
    "\n",
    "print(sub.find('best', 0))\n",
    " "
   ]
  },
  {
   "cell_type": "markdown",
   "metadata": {},
   "source": [
    "10.str.title():The title() method returns a string where the first character in every word is upper case.It is viewed as a header or a title..Python String title() method basically converts the input string to title case i.e. it converts only the first character of every word in the input string to Uppercase and converts the rest of the characters to Lowercase.If the word contains a number or a symbol, the first letter after that will be converted to upper case\n",
    "\n",
    "Use cases:This method is pplied when;\n",
    "1.Only the first character of every word in the input string is converted to Uppercase.\n",
    "\n",
    "2.All the other characters other than the first alphabet are converted to lowercase.\n",
    "\n",
    "3.The presence of digits or number before the word doesn’t affect the working of the function. \n",
    "4.The character after the digit is considered as the first character."
   ]
  },
  {
   "cell_type": "code",
   "execution_count": 28,
   "metadata": {},
   "outputs": [
    {
     "name": "stdout",
     "output_type": "stream",
     "text": [
      "num_alp:\n",
      " 14days of glory\n",
      "Converted String:\n",
      " 14Days Of Glory\n"
     ]
    }
   ],
   "source": [
    "num_alp = '14days of glory'\n",
    "print(\"num_alp:\\n\",num_alp)\n",
    "x = num_alp.title() \n",
    "print(\"Converted String:\\n\",x)"
   ]
  },
  {
   "cell_type": "markdown",
   "metadata": {},
   "source": [
    "11.str.join(iterable):The join() method takes all items in an iterable and joins them into one string.\n",
    "\n",
    "A string must be specified as the separator.Joins the elements of an iterable to the end of the string.\n",
    "The join() method provides a flexible way to create strings from iterable objects. It joins each element of an iterable (such as list, string, and tuple) by a string separator (the string on which the join() method is called) and returns the concatenated string.The most important point to be taken into consideration is that the join() function operates only on string type input values. If we input any of the parameters of non-string type, it raises a TypeError exception.It accepts iterables such as set, list, tuple, string, etc and another string(separable element) as parameters.\n",
    "\n",
    "Use case:The join() method basically is used to join the input string by another set of separator/string elements.It is useful in creating a string representation from the iterable elements. This method returns a new string and the original string and iterable remains unchanged. We can create CSV string as well as a tab-separated string using this method.\n",
    "Joining List of Strings to CSV\n",
    "Concatenation of the Strings\n",
    "Using join() with Single String as input\n",
    "Creating CSV String from an iterable such as List, Tuple, etc.\n",
    "For logging purpose, get the string representation of the iterable and log into file.\n",
    "Saving an iterable object into a file by converting it to a string."
   ]
  },
  {
   "cell_type": "code",
   "execution_count": 36,
   "metadata": {},
   "outputs": [
    {
     "name": "stdout",
     "output_type": "stream",
     "text": [
      "Biology-->Chemistry-->English\n"
     ]
    }
   ],
   "source": [
    "subject = {'English', 'Biology', 'Chemistry'}\n",
    "s = '-->'\n",
    "print(s.join(subject))"
   ]
  },
  {
   "cell_type": "markdown",
   "metadata": {},
   "source": [
    "12.str.split():The split() method returns a list of all the words in the string, using str as the separator (splits on all whitespace if left unspecified), optionally limiting the number of splits to num.The split() method splits a string into a list.Splits the string at the specified separator, and returns a list.The seperator can be specified. The default separator is any whitespace.\n",
    "\n",
    "Use case:This string method can be used with class reference.The source string is passed to split.\n",
    "\n"
   ]
  },
  {
   "cell_type": "code",
   "execution_count": 3,
   "metadata": {},
   "outputs": [
    {
     "name": "stdout",
     "output_type": "stream",
     "text": [
      "The world\n",
      "is a global villiage,\n",
      "were technological evolution\n",
      "is leading to sustainable development\n"
     ]
    }
   ],
   "source": [
    "A = 'The world\\nis a global villiage,\\nwere technological evolution\\nis leading to sustainable developments'\n",
    "result = A.split('\\n')\n",
    "for x in result:\n",
    "    print(x)"
   ]
  },
  {
   "cell_type": "markdown",
   "metadata": {},
   "source": [
    "13.str.strip():The strip() method returns a copy of the string by removing both the leading and the trailing characters (based on the string argument passed)removes any leading (spaces at the beginning) and trailing (spaces at the end) characters (space is the default leading character to remove.Strip() parameter is 'chars' which is optional and is a string that specifies the set of characters to be removed from the left and right part of the string. If the chars argument is not provided, all leading and trailing whitespaces are removed from the string\n",
    "\n",
    "Use cases:This is used in the following cases;\n",
    "1.When the character of the string in the left mismatches with all the characters in the chars argument, it stops removing the leading characters.\n",
    "2.when the character of the string in the right mismatches with all the characters in the chars argument, it stops removing the trailing characters.\n"
   ]
  },
  {
   "cell_type": "code",
   "execution_count": 4,
   "metadata": {},
   "outputs": [
    {
     "name": "stdout",
     "output_type": "stream",
     "text": [
      "My name is Elvis\n"
     ]
    }
   ],
   "source": [
    "t = \"     Elvis     \"\n",
    "\n",
    "x = t.strip()\n",
    "\n",
    "print(\"My name is\", x,)"
   ]
  },
  {
   "cell_type": "markdown",
   "metadata": {},
   "source": [
    "14.str.zfill():The zfill() method adds zeros (0) at the beginning of the string, until it reaches the specified length.This method returns a copy of the string with '0' characters padded to the left.\n",
    "If the value of the len parameter is less than the length of the string, no filling is done.Fills the string with a specified number of 0 values at the beginning of the string.zfill() takes a single character width which specifies the length of the returned string from zfill() with 0 digits filled to the left.If a string starts with the sign prefix ('+', '-'), 0 digits are filled after the first sign prefix character.\n",
    "\n",
    "Use case:This method can be used in the following cases;\n",
    "1.Imagine,the initial length of the string is 10. And, the width is specified 15. In this case, zfill() returns a copy of the string with five '0' digits filled to the left.\n",
    "2.Again if the initial length of the string is 10. And, the width is specified 8. In this case, zfill() doesn't fill '0' digits to the left and returns a copy of the original string. The length of the returned string in this case will be 10."
   ]
  },
  {
   "cell_type": "code",
   "execution_count": 7,
   "metadata": {},
   "outputs": [
    {
     "name": "stdout",
     "output_type": "stream",
     "text": [
      "000Bread contains carbohydrate\n",
      "000000000000000000Bread contains carbohydrate\n"
     ]
    }
   ],
   "source": [
    "food= \"Bread contains carbohydrate\"\n",
    "print(food.zfill(30))\n",
    "print(food.zfill(45))"
   ]
  },
  {
   "cell_type": "markdown",
   "metadata": {},
   "source": [
    "15.str.index(value,start and end):This string method Searches the string for a specified value and returns the position of where it was found.The method finds the first occurrence of the specified value and it raises an exception if the value is not found.The index() method takes three parameters listed below;\n",
    "sub - substring to be searched in the string str.\n",
    "start and end(optional) - substring is searched within str[start:end]\n",
    "\n",
    "Use case:This method is applied when;\n",
    "1.There is index() With Substring argument Only.\n",
    "2.When there is an index() With start and end Arguments."
   ]
  },
  {
   "cell_type": "code",
   "execution_count": 11,
   "metadata": {},
   "outputs": [
    {
     "name": "stdout",
     "output_type": "stream",
     "text": [
      "12\n"
     ]
    }
   ],
   "source": [
    "text = 'The city is far away from here.'\n",
    "print(text.index('far', 8))"
   ]
  }
 ],
 "metadata": {
  "kernelspec": {
   "display_name": "Python 3",
   "language": "python",
   "name": "python3"
  },
  "language_info": {
   "codemirror_mode": {
    "name": "ipython",
    "version": 3
   },
   "file_extension": ".py",
   "mimetype": "text/x-python",
   "name": "python",
   "nbconvert_exporter": "python",
   "pygments_lexer": "ipython3",
   "version": "3.6.10"
  }
 },
 "nbformat": 4,
 "nbformat_minor": 4
}
